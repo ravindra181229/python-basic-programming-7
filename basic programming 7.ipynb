{
 "cells": [
  {
   "cell_type": "code",
   "execution_count": 19,
   "id": "ad5483fb",
   "metadata": {},
   "outputs": [
    {
     "name": "stdout",
     "output_type": "stream",
     "text": [
      "the sum of array is 36\n"
     ]
    }
   ],
   "source": [
    "#Q1\n",
    "#program to find sum of array\n",
    "array = [1,3,5,7,9,11]\n",
    "sum = 0\n",
    "for i in range(len(array)):\n",
    "    sum += array[i]\n",
    "print(\"the sum of array is {}\".format(sum))\n"
   ]
  },
  {
   "cell_type": "code",
   "execution_count": 23,
   "id": "12cd0fe4",
   "metadata": {},
   "outputs": [
    {
     "name": "stdout",
     "output_type": "stream",
     "text": [
      "the largest element in the array is 80\n"
     ]
    }
   ],
   "source": [
    "#Q2\n",
    "#progarm to find largest element in array\n",
    "array = [1,5,7,80,3,45,15]\n",
    "print(\"the largest element in the array is\",max(array))"
   ]
  },
  {
   "cell_type": "code",
   "execution_count": 28,
   "id": "b27e775d",
   "metadata": {},
   "outputs": [
    {
     "name": "stdout",
     "output_type": "stream",
     "text": [
      "Array after left rotation is:  [7, 8, 9, 0, 5, 6]\n"
     ]
    }
   ],
   "source": [
    "#Q3\n",
    "#program for array rotation\n",
    "def array(a,b):\n",
    "    temp = [] #declaring a temp variable\n",
    "    n=len(a)\n",
    "    for i in range(b,n):\n",
    "        temp.append(a[i])\n",
    "    i = 0\n",
    "    for i in range (0,b):\n",
    "        temp.append(a[i])\n",
    "    a=temp.copy() #copying the temp variable to original array\n",
    "    return a\n",
    " \n",
    "arr = [5,6,7,8,9,0]\n",
    "print(\"Array after left rotation is: \", end=' ')\n",
    "print(array(arr, 2))"
   ]
  },
  {
   "cell_type": "code",
   "execution_count": 36,
   "id": "2b7b2a4a",
   "metadata": {},
   "outputs": [
    {
     "name": "stdout",
     "output_type": "stream",
     "text": [
      "7\n",
      "9\n",
      "11\n",
      "1\n",
      "3\n",
      "5\n"
     ]
    }
   ],
   "source": [
    "#Q4\n",
    "#program to split the array and to add to the end\n",
    "def split(array,a,b):\n",
    "    for i in range(0,b):\n",
    "        z = array[0]\n",
    "        for j in range(0,a-1):\n",
    "            array[j] = array[j+1]\n",
    "        array[a-1] = z\n",
    "array = [1,3,5,7,9,11]\n",
    "a = len(array)\n",
    "place = 3\n",
    "\n",
    "split(array,a,place)\n",
    "\n",
    "for i in range(0,a):\n",
    "    print(array[i])"
   ]
  },
  {
   "cell_type": "code",
   "execution_count": 43,
   "id": "11a68d3e",
   "metadata": {},
   "outputs": [
    {
     "name": "stdout",
     "output_type": "stream",
     "text": [
      "False\n"
     ]
    }
   ],
   "source": [
    "#Q5\n",
    "#program to check if a given number is monotonic\n",
    "#if it a monotonic than it is return true else it will return false\n",
    "def monotonic(a):\n",
    "    return(all(a[i]>=a[i+1] for i in range(len(a)-1) or\n",
    "           all(a[i]<=a[i+1] for i in range(len(a)-1))))\n",
    "a = [6,2,2,7]\n",
    "print(monotonic(a))"
   ]
  },
  {
   "cell_type": "code",
   "execution_count": null,
   "id": "0cf5420d",
   "metadata": {},
   "outputs": [],
   "source": []
  }
 ],
 "metadata": {
  "kernelspec": {
   "display_name": "Python 3",
   "language": "python",
   "name": "python3"
  },
  "language_info": {
   "codemirror_mode": {
    "name": "ipython",
    "version": 3
   },
   "file_extension": ".py",
   "mimetype": "text/x-python",
   "name": "python",
   "nbconvert_exporter": "python",
   "pygments_lexer": "ipython3",
   "version": "3.8.8"
  }
 },
 "nbformat": 4,
 "nbformat_minor": 5
}
